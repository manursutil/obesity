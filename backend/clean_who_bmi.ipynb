{
 "cells": [
  {
   "cell_type": "markdown",
   "id": "a634b51e",
   "metadata": {},
   "source": [
    "# Cleaning WHO Data Pipeline"
   ]
  },
  {
   "cell_type": "code",
   "execution_count": 2,
   "id": "5c2dc599",
   "metadata": {},
   "outputs": [],
   "source": [
    "import pandas as pd\n",
    "import numpy as np"
   ]
  },
  {
   "cell_type": "markdown",
   "id": "e45fd4b0",
   "metadata": {},
   "source": [
    "### Clean BMI data"
   ]
  },
  {
   "cell_type": "code",
   "execution_count": 6,
   "id": "6e50f73a",
   "metadata": {},
   "outputs": [],
   "source": [
    "boys_df = pd.read_csv(\"data/bmi-boys-perc-who2007-exp.csv\", sep=\";\")\n",
    "girls_df = pd.read_csv(\"data/bmi-girls-perc-who2007-exp.csv\", sep=\";\")"
   ]
  },
  {
   "cell_type": "code",
   "execution_count": 7,
   "id": "b36a6746-5fbc-4360-846f-64ee6b5de588",
   "metadata": {},
   "outputs": [],
   "source": [
    "def clean_who_bmi(df, gender):\n",
    "    df = df.copy()\n",
    "    for col in df.columns:\n",
    "        df[col] = (\n",
    "            df[col]\n",
    "            .astype(str)\n",
    "            .str.replace(\",\", \".\", regex=False)\n",
    "            .str.replace(\" \", \"\", regex=False)\n",
    "            .replace(\"\", np.nan)\n",
    "        )\n",
    "        df[col] = pd.to_numeric(df[col], errors='coerce')\n",
    "\n",
    "    df = df[[\"Month\", \"L\", \"M\", \"S\"]].dropna()\n",
    "    df[\"Sex\"] = 1 if gender == \"M\" else 2\n",
    "    return df[[\"Sex\", \"Month\", \"L\", \"M\", \"S\"]]"
   ]
  },
  {
   "cell_type": "code",
   "execution_count": 8,
   "id": "13198369-95ce-4dae-8403-f3db4c52c41f",
   "metadata": {},
   "outputs": [],
   "source": [
    "boys_clean = clean_who_bmi(boys_df, \"M\")\n",
    "girls_clean = clean_who_bmi(girls_df, \"F\")\n",
    "who_bmi_df = pd.concat([boys_clean, girls_clean], ignore_index=True)\n",
    "who_bmi_df = who_bmi_df.sort_values(by=[\"Sex\", \"Month\"]).reset_index(drop=True)"
   ]
  },
  {
   "cell_type": "code",
   "execution_count": 9,
   "id": "2e522b74-1e8e-4190-b893-0d0d4c9acffa",
   "metadata": {},
   "outputs": [],
   "source": [
    "who_bmi_df.to_csv(\"data/who_bmi_clean.csv\", index=False)"
   ]
  },
  {
   "cell_type": "code",
   "execution_count": 10,
   "id": "bee4a0ab-04fa-4c1e-b072-ef94d5a65309",
   "metadata": {},
   "outputs": [
    {
     "name": "stdout",
     "output_type": "stream",
     "text": [
      "   Sex  Month       L        M        S\n",
      "0    1     61 -0.7387  15.2641  0.08390\n",
      "1    1     62 -0.7621  15.2616  0.08414\n",
      "2    1     63 -0.7856  15.2604  0.08439\n",
      "3    1     64 -0.8089  15.2605  0.08464\n",
      "4    1     65 -0.8322  15.2619  0.08490\n"
     ]
    }
   ],
   "source": [
    "print(who_bmi_df.head())"
   ]
  },
  {
   "cell_type": "markdown",
   "id": "b4106c5f",
   "metadata": {},
   "source": [
    "### Clean HFA and WFA Data"
   ]
  },
  {
   "cell_type": "code",
   "execution_count": 3,
   "id": "ee79c347-e0cb-4e94-bac6-3b74522aa3c8",
   "metadata": {},
   "outputs": [],
   "source": [
    "hfa_boys = pd.read_csv(\"./data/hfa-boys-perc-who2007-exp.csv\", sep=\";\")\n",
    "hfa_girl = pd.read_csv(\"./data/hfa-girls-perc-who2007-exp.csv\", sep=\";\")\n",
    "\n",
    "wfa_boys = pd.read_csv(\"./data/wfa-boys-perc-who2007.csv\", sep=\";\")\n",
    "wfa_girls = pd.read_csv(\"./data/wfa-girls-perc-who2007.csv\", sep=\";\")"
   ]
  },
  {
   "cell_type": "code",
   "execution_count": 4,
   "id": "04ad5246",
   "metadata": {},
   "outputs": [],
   "source": [
    "def clean_who_lms(df, gender, measure_type):\n",
    "    df = df.copy()\n",
    "    df.columns = [col.strip() for col in df.columns]\n",
    "\n",
    "    for col in df.columns:\n",
    "        df[col] = (\n",
    "            df[col]\n",
    "            .astype(str)\n",
    "            .str.replace(\",\", \".\", regex=False)\n",
    "            .str.replace(\" \", \"\", regex=False)\n",
    "            .replace(\"\", np.nan)\n",
    "        )\n",
    "        df[col] = pd.to_numeric(df[col], errors=\"coerce\")\n",
    "\n",
    "    df = df[[\"Month\", \"L\", \"M\", \"S\"]].dropna()\n",
    "    df[\"Sex\"] = 1 if gender == \"M\" else 2\n",
    "    df[\"Type\"] = measure_type.upper()\n",
    "    return df[[\"Type\", \"Sex\", \"Month\", \"L\", \"M\", \"S\"]]"
   ]
  },
  {
   "cell_type": "code",
   "execution_count": 7,
   "id": "8523a704",
   "metadata": {},
   "outputs": [],
   "source": [
    "hfa_boys_clean = clean_who_lms(hfa_boys, \"M\", \"HFA\")\n",
    "hfa_girls_clean = clean_who_lms(hfa_girl, \"F\", \"HFA\")\n",
    "\n",
    "wfa_boys_clean = clean_who_lms(wfa_boys, \"M\", \"WFA\")\n",
    "wfa_girls_clean = clean_who_lms(wfa_girls, \"F\", \"WFA\")"
   ]
  },
  {
   "cell_type": "code",
   "execution_count": 8,
   "id": "212d6b37-1c41-4f30-adbd-36f70e63ff7f",
   "metadata": {},
   "outputs": [],
   "source": [
    "who_lms_all = pd.concat(\n",
    "    [hfa_boys_clean, hfa_girls_clean, wfa_boys_clean, wfa_girls_clean],\n",
    "    ignore_index=True\n",
    ").sort_values(by=[\"Type\", \"Sex\", \"Month\"])"
   ]
  },
  {
   "cell_type": "code",
   "execution_count": 9,
   "id": "b4507ed5-ca90-44d0-88be-fd55ea1f8e64",
   "metadata": {},
   "outputs": [],
   "source": [
    "who_lms_all.to_csv(\"data/who_lms_all_clean.csv\", index=False)"
   ]
  },
  {
   "cell_type": "code",
   "execution_count": 10,
   "id": "fa111896-4580-4c62-a719-53c1f2ce7dfb",
   "metadata": {},
   "outputs": [
    {
     "data": {
      "text/html": [
       "<div>\n",
       "<style scoped>\n",
       "    .dataframe tbody tr th:only-of-type {\n",
       "        vertical-align: middle;\n",
       "    }\n",
       "\n",
       "    .dataframe tbody tr th {\n",
       "        vertical-align: top;\n",
       "    }\n",
       "\n",
       "    .dataframe thead th {\n",
       "        text-align: right;\n",
       "    }\n",
       "</style>\n",
       "<table border=\"1\" class=\"dataframe\">\n",
       "  <thead>\n",
       "    <tr style=\"text-align: right;\">\n",
       "      <th></th>\n",
       "      <th>Type</th>\n",
       "      <th>Sex</th>\n",
       "      <th>Month</th>\n",
       "      <th>L</th>\n",
       "      <th>M</th>\n",
       "      <th>S</th>\n",
       "    </tr>\n",
       "  </thead>\n",
       "  <tbody>\n",
       "    <tr>\n",
       "      <th>0</th>\n",
       "      <td>HFA</td>\n",
       "      <td>1</td>\n",
       "      <td>61</td>\n",
       "      <td>1.0</td>\n",
       "      <td>110.2647</td>\n",
       "      <td>0.04164</td>\n",
       "    </tr>\n",
       "    <tr>\n",
       "      <th>1</th>\n",
       "      <td>HFA</td>\n",
       "      <td>1</td>\n",
       "      <td>62</td>\n",
       "      <td>1.0</td>\n",
       "      <td>110.8006</td>\n",
       "      <td>0.04172</td>\n",
       "    </tr>\n",
       "    <tr>\n",
       "      <th>2</th>\n",
       "      <td>HFA</td>\n",
       "      <td>1</td>\n",
       "      <td>63</td>\n",
       "      <td>1.0</td>\n",
       "      <td>111.3338</td>\n",
       "      <td>0.04180</td>\n",
       "    </tr>\n",
       "    <tr>\n",
       "      <th>3</th>\n",
       "      <td>HFA</td>\n",
       "      <td>1</td>\n",
       "      <td>64</td>\n",
       "      <td>1.0</td>\n",
       "      <td>111.8636</td>\n",
       "      <td>0.04187</td>\n",
       "    </tr>\n",
       "    <tr>\n",
       "      <th>4</th>\n",
       "      <td>HFA</td>\n",
       "      <td>1</td>\n",
       "      <td>65</td>\n",
       "      <td>1.0</td>\n",
       "      <td>112.3895</td>\n",
       "      <td>0.04195</td>\n",
       "    </tr>\n",
       "  </tbody>\n",
       "</table>\n",
       "</div>"
      ],
      "text/plain": [
       "  Type  Sex  Month    L         M        S\n",
       "0  HFA    1     61  1.0  110.2647  0.04164\n",
       "1  HFA    1     62  1.0  110.8006  0.04172\n",
       "2  HFA    1     63  1.0  111.3338  0.04180\n",
       "3  HFA    1     64  1.0  111.8636  0.04187\n",
       "4  HFA    1     65  1.0  112.3895  0.04195"
      ]
     },
     "execution_count": 10,
     "metadata": {},
     "output_type": "execute_result"
    }
   ],
   "source": [
    "who_lms_all.head()"
   ]
  },
  {
   "cell_type": "code",
   "execution_count": null,
   "id": "022f67f8-ef23-4181-b16f-e6487e1c649a",
   "metadata": {},
   "outputs": [],
   "source": []
  }
 ],
 "metadata": {
  "kernelspec": {
   "display_name": "Python [conda env:base] *",
   "language": "python",
   "name": "conda-base-py"
  },
  "language_info": {
   "codemirror_mode": {
    "name": "ipython",
    "version": 3
   },
   "file_extension": ".py",
   "mimetype": "text/x-python",
   "name": "python",
   "nbconvert_exporter": "python",
   "pygments_lexer": "ipython3",
   "version": "3.13.5"
  }
 },
 "nbformat": 4,
 "nbformat_minor": 5
}
