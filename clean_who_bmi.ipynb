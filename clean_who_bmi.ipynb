{
 "cells": [
  {
   "cell_type": "code",
   "execution_count": 1,
   "id": "5c2dc599",
   "metadata": {},
   "outputs": [],
   "source": [
    "import pandas as pd\n",
    "import numpy as np"
   ]
  },
  {
   "cell_type": "code",
   "execution_count": 6,
   "id": "6e50f73a",
   "metadata": {},
   "outputs": [],
   "source": [
    "boys_df = pd.read_csv(\"data/bmi-boys-perc-who2007-exp.csv\", sep=\";\")\n",
    "girls_df = pd.read_csv(\"data/bmi-girls-perc-who2007-exp.csv\", sep=\";\")"
   ]
  },
  {
   "cell_type": "code",
   "execution_count": 7,
   "id": "b36a6746-5fbc-4360-846f-64ee6b5de588",
   "metadata": {},
   "outputs": [],
   "source": [
    "def clean_who_bmi(df, gender):\n",
    "    df = df.copy()\n",
    "    for col in df.columns:\n",
    "        df[col] = (\n",
    "            df[col]\n",
    "            .astype(str)\n",
    "            .str.replace(\",\", \".\", regex=False)\n",
    "            .str.replace(\" \", \"\", regex=False)\n",
    "            .replace(\"\", np.nan)\n",
    "        )\n",
    "        df[col] = pd.to_numeric(df[col], errors='coerce')\n",
    "\n",
    "    df = df[[\"Month\", \"L\", \"M\", \"S\"]].dropna()\n",
    "    df[\"Sex\"] = 1 if gender == \"M\" else 2\n",
    "    return df[[\"Sex\", \"Month\", \"L\", \"M\", \"S\"]]"
   ]
  },
  {
   "cell_type": "code",
   "execution_count": 8,
   "id": "13198369-95ce-4dae-8403-f3db4c52c41f",
   "metadata": {},
   "outputs": [],
   "source": [
    "boys_clean = clean_who_bmi(boys_df, \"M\")\n",
    "girls_clean = clean_who_bmi(girls_df, \"F\")\n",
    "who_bmi_df = pd.concat([boys_clean, girls_clean], ignore_index=True)\n",
    "who_bmi_df = who_bmi_df.sort_values(by=[\"Sex\", \"Month\"]).reset_index(drop=True)"
   ]
  },
  {
   "cell_type": "code",
   "execution_count": 9,
   "id": "2e522b74-1e8e-4190-b893-0d0d4c9acffa",
   "metadata": {},
   "outputs": [],
   "source": [
    "who_bmi_df.to_csv(\"data/who_bmi_clean.csv\", index=False)"
   ]
  },
  {
   "cell_type": "code",
   "execution_count": 10,
   "id": "bee4a0ab-04fa-4c1e-b072-ef94d5a65309",
   "metadata": {},
   "outputs": [
    {
     "name": "stdout",
     "output_type": "stream",
     "text": [
      "   Sex  Month       L        M        S\n",
      "0    1     61 -0.7387  15.2641  0.08390\n",
      "1    1     62 -0.7621  15.2616  0.08414\n",
      "2    1     63 -0.7856  15.2604  0.08439\n",
      "3    1     64 -0.8089  15.2605  0.08464\n",
      "4    1     65 -0.8322  15.2619  0.08490\n"
     ]
    }
   ],
   "source": [
    "print(who_bmi_df.head())"
   ]
  },
  {
   "cell_type": "code",
   "execution_count": null,
   "id": "5b7a41fe-9737-4100-ab4a-4cfc0068d7e1",
   "metadata": {},
   "outputs": [],
   "source": []
  }
 ],
 "metadata": {
  "kernelspec": {
   "display_name": "Python [conda env:base] *",
   "language": "python",
   "name": "conda-base-py"
  },
  "language_info": {
   "codemirror_mode": {
    "name": "ipython",
    "version": 3
   },
   "file_extension": ".py",
   "mimetype": "text/x-python",
   "name": "python",
   "nbconvert_exporter": "python",
   "pygments_lexer": "ipython3",
   "version": "3.13.5"
  }
 },
 "nbformat": 4,
 "nbformat_minor": 5
}
